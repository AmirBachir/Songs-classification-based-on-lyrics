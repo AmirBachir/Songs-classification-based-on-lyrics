{
  "cells": [
    {
      "cell_type": "markdown",
      "metadata": {
        "id": "CbL1QtePAJsX"
      },
      "source": [
        "---\n",
        "**1. DATA ACQUISITION and VISUALIZATION**"
      ]
    },
    {
      "cell_type": "code",
      "execution_count": null,
      "metadata": {
        "id": "swhWE7AtaprD"
      },
      "outputs": [],
      "source": [
        "import pandas as pd\n",
        "import numpy as np"
      ]
    },
    {
      "cell_type": "code",
      "execution_count": null,
      "metadata": {
        "colab": {
          "base_uri": "https://localhost:8080/"
        },
        "id": "tn1eLZmEa3_H",
        "outputId": "85f8ab1a-4bdf-43d8-d255-9fda5ad9582f"
      },
      "outputs": [
        {
          "name": "stdout",
          "output_type": "stream",
          "text": [
            "The database contains 62155 lyrics\n"
          ]
        }
      ],
      "source": [
        "df = pd.read_csv(r'/content/drive/MyDrive/NLP/Project/lyrics1.csv', sep = ';', on_bad_lines='skip')\n",
        "print('The database contains ' + str(len(df)) + ' lyrics')"
      ]
    },
    {
      "cell_type": "code",
      "execution_count": null,
      "metadata": {
        "colab": {
          "base_uri": "https://localhost:8080/"
        },
        "id": "N7ddTuL9nyFZ",
        "outputId": "1c0c4f6d-a58d-4312-e249-b4858008c5df"
      },
      "outputs": [
        {
          "name": "stderr",
          "output_type": "stream",
          "text": [
            "/usr/local/lib/python3.7/dist-packages/ipykernel_launcher.py:19: FutureWarning: The default value of regex will change from True to False in a future version.\n"
          ]
        }
      ],
      "source": [
        "#Union of 3 genres under the genre 'alt rock'\n",
        "df['ranker_genre'] = np.where(\n",
        "\n",
        "    (df['ranker_genre'] == 'screamo')|\n",
        "\n",
        "    (df['ranker_genre'] == 'punk rock')|\n",
        "\n",
        "    (df['ranker_genre'] == 'heavy metal'), \n",
        "\n",
        "    'alt rock', \n",
        "\n",
        "    df['ranker_genre']\n",
        "\n",
        ")\n",
        "#transform data from having one lyric per row to one song per row\n",
        "group = ['song', 'year', 'album', 'genre', 'artist', 'ranker_genre']\n",
        "\n",
        "lyrics_by_song = df.sort_values(group).groupby(group).lyric.apply(' '.join).apply(lambda x: x.lower()).reset_index(name='lyric')\n",
        "lyrics_by_song[\"lyric\"] = lyrics_by_song['lyric'].str.replace(r'[^\\w\\s]','')"
      ]
    },
    {
      "cell_type": "code",
      "execution_count": null,
      "metadata": {
        "colab": {
          "base_uri": "https://localhost:8080/"
        },
        "id": "Xf9oV7uHpMMq",
        "outputId": "9b9b49df-fd88-486c-89ed-43d828cb5222"
      },
      "outputs": [
        {
          "name": "stdout",
          "output_type": "stream",
          "text": [
            "The database contains 62155 songs\n",
            "________________________________\n",
            "There are 5 genres: \n",
            "['alt rock' 'Hip Hop' 'pop' 'rhythm and blues' 'Country']\n",
            "________________________________\n",
            "Genre ALT ROCK has 18056 songs\n",
            "Genre HIP HOP has 6489 songs\n",
            "Genre POP has 3590 songs\n",
            "Genre RHYTHM AND BLUES has 6845 songs\n",
            "Genre COUNTRY has 27175 songs\n",
            "________________________________\n",
            "song                                            One Day at a Time\n",
            "year                                                       2004.0\n",
            "album                                               Encore (2004)\n",
            "genre                                                     Hip Hop\n",
            "artist                                                     Eminem\n",
            "ranker_genre                                              Hip Hop\n",
            "lyric           2pac sometimes its hard to wake up in the morn...\n",
            "Name: 37900, dtype: object\n",
            "________________________________\n",
            "The song One Day at a Time has 3739 characters\n",
            "2pac sometimes its hard to wake up in the morning mind full of demons i dont wanna hear them anymore got me heartbroken fine so many babies screaming cause they seeing destruction before they a see human being so they start smoking weed well never get our day until we learn to pray keep our families in shape cause they all broke and why do ghetto birds die before we learn to fly some bodies elses child caught in guns smoking weed can all make a change so im told but i havent seen the change unfold i keep hoping please if you prefer to breathe communities in need of people that will lead keep your eyes open now can only say ill try until the day i die i promise to be wise with my heart open free brings only misery a way to tragedy so i stay sucker free only a few chosen rise rise my ghetto queen rise rise dont be afraid to try try too many of us died to the door to open wide my brother be wise stay focused on the prize though everybody dies we can eminem only learn to take our anger and our hate control our mental state settle down and just set it straight maybe we can learn to take a second to pump the brakes for we said it regret it later and let it escalate cause by then its too just late theres so much we can take theres only so much someone can swallow and tolerate to the point that he just breaks snaps and thats all it takes youd think that we was learning from other rappers mistakes but we aint its plain to go against with every artists comes the image he portrays and a picture that he paints but in the midst of all this anger and this angst never once did you hear me say im a gangster and i aint hear no complaints but i know that i will always continue to grow as long as i lead and never follow no one elses shadow there will never be another me and that i can guarantee thats why the fuck i remain sucker free to this day the game will never be the same no matter how much fame or success they attain there will never be another me and no matter what they do there will never be another you you can search but youll never find you can try to rewind time but in your hearts and your minds we will never die we are forever alive and we continue growing outlawz one day at a time dont be caught in the publicity and caught in the hype rappers are regular people minus money and light searching for fortune and fame and super stardom all the jewelry all the cars whose crew is the hardest now the hiphop police the villains is watching and kids think beef is the only option outlaws born filthy guilty as charged my memories of him die but makaveli lives on you think the industry is fun and no pity with guns and when your money is up thats when your enemies come so if he died and came back would he try to save rap we needing a change the drama remains i spent my whole life fighting myself that i cant win so im inviting some help and every now and then i take rights from left im still just like a kid looking for stripes on my belt and that there is a fight in itself so i just pray and hope god take a like to myself no matter how much i try stay alive im gunna die mad still standing there in love with my pride heard frivolous beats we past that im trying to keep some income coming in and collect on my ass cap the rappers in the game aint changed and i finally realized that we not in the same game the hating will never end so i guess ill deal wit it them 45 with cop killers just some steel wit it the streets is military you gotta be a soldier gotta stay leery and keep your eyes on the rollers as they do what they gotta do to shackle and hold us so we gotta do what we gotta do to keep rolling one way at a time keep the faith in your mind and we continue growin 2pac one day at a time damn\n",
            "________________________________\n"
          ]
        }
      ],
      "source": [
        "#Some information\n",
        "print('The database contains ' + str(len(lyrics_by_song)) + ' songs')\n",
        "print('________________________________')\n",
        "genres = lyrics_by_song['ranker_genre'].unique()\n",
        "print('There are ' + str(len(genres)) + ' genres: ')\n",
        "print(genres)\n",
        "print('________________________________')\n",
        "for genre in genres:  \n",
        "  print(f\"Genre {genre.upper()} has {len(lyrics_by_song.loc[lyrics_by_song['ranker_genre']==genre])} songs\")\n",
        "print('________________________________')\n",
        "hip_hop_songs = lyrics_by_song.loc[lyrics_by_song['ranker_genre']=='Hip Hop']\n",
        "song=hip_hop_songs.iloc[4030]\n",
        "print(song)\n",
        "print('________________________________')\n",
        "print('The song ' + song['song'] + ' has ' + str(len(song['lyric'])) + ' characters')\n",
        "print(song['lyric'])\n",
        "print('________________________________')\n"
      ]
    },
    {
      "cell_type": "code",
      "execution_count": null,
      "metadata": {
        "id": "sbRauV7otNkp"
      },
      "outputs": [],
      "source": [
        "lyrics_by_song.to_csv('/content/drive/MyDrive/NLP/Project/Project/dataset.csv', sep=';')"
      ]
    },
    {
      "cell_type": "code",
      "execution_count": null,
      "metadata": {
        "id": "nuQICm2coMhV"
      },
      "outputs": [],
      "source": [
        "lyrics_by_song.groupby('ranker_genre')"
      ]
    },
    {
      "cell_type": "markdown",
      "metadata": {
        "id": "aT1wlhNjx9UK"
      },
      "source": [
        "---\n",
        "**2. DATA PROCESSING**"
      ]
    },
    {
      "cell_type": "code",
      "execution_count": null,
      "metadata": {
        "colab": {
          "base_uri": "https://localhost:8080/"
        },
        "id": "8QJGRTiHseb6",
        "outputId": "3aed1bf7-e706-4377-85c8-4d3f85288c8a"
      },
      "outputs": [
        {
          "output_type": "stream",
          "name": "stdout",
          "text": [
            "Looking in indexes: https://pypi.org/simple, https://us-python.pkg.dev/colab-wheels/public/simple/\n",
            "Requirement already satisfied: gensim in /usr/local/lib/python3.7/dist-packages (3.6.0)\n",
            "Requirement already satisfied: nltk in /usr/local/lib/python3.7/dist-packages (3.7)\n",
            "Requirement already satisfied: numpy>=1.11.3 in /usr/local/lib/python3.7/dist-packages (from gensim) (1.21.6)\n",
            "Requirement already satisfied: smart-open>=1.2.1 in /usr/local/lib/python3.7/dist-packages (from gensim) (5.2.1)\n",
            "Requirement already satisfied: six>=1.5.0 in /usr/local/lib/python3.7/dist-packages (from gensim) (1.15.0)\n",
            "Requirement already satisfied: scipy>=0.18.1 in /usr/local/lib/python3.7/dist-packages (from gensim) (1.7.3)\n",
            "Requirement already satisfied: tqdm in /usr/local/lib/python3.7/dist-packages (from nltk) (4.64.1)\n",
            "Requirement already satisfied: regex>=2021.8.3 in /usr/local/lib/python3.7/dist-packages (from nltk) (2022.6.2)\n",
            "Requirement already satisfied: joblib in /usr/local/lib/python3.7/dist-packages (from nltk) (1.2.0)\n",
            "Requirement already satisfied: click in /usr/local/lib/python3.7/dist-packages (from nltk) (7.1.2)\n"
          ]
        },
        {
          "output_type": "stream",
          "name": "stderr",
          "text": [
            "[nltk_data] Downloading package stopwords to /root/nltk_data...\n",
            "[nltk_data]   Unzipping corpora/stopwords.zip.\n",
            "[nltk_data] Downloading package punkt to /root/nltk_data...\n",
            "[nltk_data]   Unzipping tokenizers/punkt.zip.\n"
          ]
        },
        {
          "output_type": "execute_result",
          "data": {
            "text/plain": [
              "True"
            ]
          },
          "metadata": {},
          "execution_count": 1
        }
      ],
      "source": [
        "!pip3 install gensim nltk\n",
        "import nltk\n",
        "nltk.download('stopwords')\n",
        "import numpy as np\n",
        "import math, scipy\n",
        "import pandas as pd\n",
        "from sklearn.feature_extraction.text import CountVectorizer, TfidfVectorizer\n",
        "from nltk.corpus import stopwords\n",
        "from nltk.tokenize import word_tokenize\n",
        "from sklearn.metrics.pairwise import cosine_similarity \n",
        "from scipy import spatial\n",
        "from gensim.test.utils import datapath\n",
        "from sklearn.manifold import TSNE\n",
        "import matplotlib.pyplot as plt\n",
        "import codecs\n",
        "import re\n",
        "nltk.download('punkt')"
      ]
    },
    {
      "cell_type": "code",
      "execution_count": null,
      "metadata": {
        "colab": {
          "base_uri": "https://localhost:8080/",
          "height": 224
        },
        "id": "au9dCuFhdLee",
        "outputId": "8cbb862e-55e6-41e1-decc-63eece53c64e"
      },
      "outputs": [
        {
          "output_type": "stream",
          "name": "stdout",
          "text": [
            "Mounted at /content/drive\n"
          ]
        },
        {
          "output_type": "execute_result",
          "data": {
            "text/plain": [
              "   Unnamed: 0                      song    year                 album  \\\n",
              "0           0                 Bad Girl   2004.0  Rollercoaster (2004)   \n",
              "1           1        Cheese Tomato Man   2004.0  Rollercoaster (2004)   \n",
              "2           2         Daydreamers Night  2004.0  Rollercoaster (2004)   \n",
              "3           3              Do It To Me   2004.0  Rollercoaster (2004)   \n",
              "4           4   Hello Farewell Goodbye   2004.0  Rollercoaster (2004)   \n",
              "\n",
              "               genre      artist ranker_genre  \\\n",
              "0  Punk Rock|Oi-Punk  The Adicts     alt rock   \n",
              "1  Punk Rock|Oi-Punk  The Adicts     alt rock   \n",
              "2  Punk Rock|Oi-Punk  The Adicts     alt rock   \n",
              "3  Punk Rock|Oi-Punk  The Adicts     alt rock   \n",
              "4  Punk Rock|Oi-Punk  The Adicts     alt rock   \n",
              "\n",
              "                                               lyric  \n",
              "0  theres a rumor youre the talk of the town ther...  \n",
              "1  cheese tomato flan crazy little man quiche lor...  \n",
              "2  shroud cloak veil smoke in camera masquerade i...  \n",
              "3  theres a kid who just found that love is not a...  \n",
              "4  oh we kiss and we fight then we make up all ni...  "
            ],
            "text/html": [
              "\n",
              "  <div id=\"df-5cd980a7-713c-4915-a090-8c812971ad52\">\n",
              "    <div class=\"colab-df-container\">\n",
              "      <div>\n",
              "<style scoped>\n",
              "    .dataframe tbody tr th:only-of-type {\n",
              "        vertical-align: middle;\n",
              "    }\n",
              "\n",
              "    .dataframe tbody tr th {\n",
              "        vertical-align: top;\n",
              "    }\n",
              "\n",
              "    .dataframe thead th {\n",
              "        text-align: right;\n",
              "    }\n",
              "</style>\n",
              "<table border=\"1\" class=\"dataframe\">\n",
              "  <thead>\n",
              "    <tr style=\"text-align: right;\">\n",
              "      <th></th>\n",
              "      <th>Unnamed: 0</th>\n",
              "      <th>song</th>\n",
              "      <th>year</th>\n",
              "      <th>album</th>\n",
              "      <th>genre</th>\n",
              "      <th>artist</th>\n",
              "      <th>ranker_genre</th>\n",
              "      <th>lyric</th>\n",
              "    </tr>\n",
              "  </thead>\n",
              "  <tbody>\n",
              "    <tr>\n",
              "      <th>0</th>\n",
              "      <td>0</td>\n",
              "      <td>Bad Girl</td>\n",
              "      <td>2004.0</td>\n",
              "      <td>Rollercoaster (2004)</td>\n",
              "      <td>Punk Rock|Oi-Punk</td>\n",
              "      <td>The Adicts</td>\n",
              "      <td>alt rock</td>\n",
              "      <td>theres a rumor youre the talk of the town ther...</td>\n",
              "    </tr>\n",
              "    <tr>\n",
              "      <th>1</th>\n",
              "      <td>1</td>\n",
              "      <td>Cheese Tomato Man</td>\n",
              "      <td>2004.0</td>\n",
              "      <td>Rollercoaster (2004)</td>\n",
              "      <td>Punk Rock|Oi-Punk</td>\n",
              "      <td>The Adicts</td>\n",
              "      <td>alt rock</td>\n",
              "      <td>cheese tomato flan crazy little man quiche lor...</td>\n",
              "    </tr>\n",
              "    <tr>\n",
              "      <th>2</th>\n",
              "      <td>2</td>\n",
              "      <td>Daydreamers Night</td>\n",
              "      <td>2004.0</td>\n",
              "      <td>Rollercoaster (2004)</td>\n",
              "      <td>Punk Rock|Oi-Punk</td>\n",
              "      <td>The Adicts</td>\n",
              "      <td>alt rock</td>\n",
              "      <td>shroud cloak veil smoke in camera masquerade i...</td>\n",
              "    </tr>\n",
              "    <tr>\n",
              "      <th>3</th>\n",
              "      <td>3</td>\n",
              "      <td>Do It To Me</td>\n",
              "      <td>2004.0</td>\n",
              "      <td>Rollercoaster (2004)</td>\n",
              "      <td>Punk Rock|Oi-Punk</td>\n",
              "      <td>The Adicts</td>\n",
              "      <td>alt rock</td>\n",
              "      <td>theres a kid who just found that love is not a...</td>\n",
              "    </tr>\n",
              "    <tr>\n",
              "      <th>4</th>\n",
              "      <td>4</td>\n",
              "      <td>Hello Farewell Goodbye</td>\n",
              "      <td>2004.0</td>\n",
              "      <td>Rollercoaster (2004)</td>\n",
              "      <td>Punk Rock|Oi-Punk</td>\n",
              "      <td>The Adicts</td>\n",
              "      <td>alt rock</td>\n",
              "      <td>oh we kiss and we fight then we make up all ni...</td>\n",
              "    </tr>\n",
              "  </tbody>\n",
              "</table>\n",
              "</div>\n",
              "      <button class=\"colab-df-convert\" onclick=\"convertToInteractive('df-5cd980a7-713c-4915-a090-8c812971ad52')\"\n",
              "              title=\"Convert this dataframe to an interactive table.\"\n",
              "              style=\"display:none;\">\n",
              "        \n",
              "  <svg xmlns=\"http://www.w3.org/2000/svg\" height=\"24px\"viewBox=\"0 0 24 24\"\n",
              "       width=\"24px\">\n",
              "    <path d=\"M0 0h24v24H0V0z\" fill=\"none\"/>\n",
              "    <path d=\"M18.56 5.44l.94 2.06.94-2.06 2.06-.94-2.06-.94-.94-2.06-.94 2.06-2.06.94zm-11 1L8.5 8.5l.94-2.06 2.06-.94-2.06-.94L8.5 2.5l-.94 2.06-2.06.94zm10 10l.94 2.06.94-2.06 2.06-.94-2.06-.94-.94-2.06-.94 2.06-2.06.94z\"/><path d=\"M17.41 7.96l-1.37-1.37c-.4-.4-.92-.59-1.43-.59-.52 0-1.04.2-1.43.59L10.3 9.45l-7.72 7.72c-.78.78-.78 2.05 0 2.83L4 21.41c.39.39.9.59 1.41.59.51 0 1.02-.2 1.41-.59l7.78-7.78 2.81-2.81c.8-.78.8-2.07 0-2.86zM5.41 20L4 18.59l7.72-7.72 1.47 1.35L5.41 20z\"/>\n",
              "  </svg>\n",
              "      </button>\n",
              "      \n",
              "  <style>\n",
              "    .colab-df-container {\n",
              "      display:flex;\n",
              "      flex-wrap:wrap;\n",
              "      gap: 12px;\n",
              "    }\n",
              "\n",
              "    .colab-df-convert {\n",
              "      background-color: #E8F0FE;\n",
              "      border: none;\n",
              "      border-radius: 50%;\n",
              "      cursor: pointer;\n",
              "      display: none;\n",
              "      fill: #1967D2;\n",
              "      height: 32px;\n",
              "      padding: 0 0 0 0;\n",
              "      width: 32px;\n",
              "    }\n",
              "\n",
              "    .colab-df-convert:hover {\n",
              "      background-color: #E2EBFA;\n",
              "      box-shadow: 0px 1px 2px rgba(60, 64, 67, 0.3), 0px 1px 3px 1px rgba(60, 64, 67, 0.15);\n",
              "      fill: #174EA6;\n",
              "    }\n",
              "\n",
              "    [theme=dark] .colab-df-convert {\n",
              "      background-color: #3B4455;\n",
              "      fill: #D2E3FC;\n",
              "    }\n",
              "\n",
              "    [theme=dark] .colab-df-convert:hover {\n",
              "      background-color: #434B5C;\n",
              "      box-shadow: 0px 1px 3px 1px rgba(0, 0, 0, 0.15);\n",
              "      filter: drop-shadow(0px 1px 2px rgba(0, 0, 0, 0.3));\n",
              "      fill: #FFFFFF;\n",
              "    }\n",
              "  </style>\n",
              "\n",
              "      <script>\n",
              "        const buttonEl =\n",
              "          document.querySelector('#df-5cd980a7-713c-4915-a090-8c812971ad52 button.colab-df-convert');\n",
              "        buttonEl.style.display =\n",
              "          google.colab.kernel.accessAllowed ? 'block' : 'none';\n",
              "\n",
              "        async function convertToInteractive(key) {\n",
              "          const element = document.querySelector('#df-5cd980a7-713c-4915-a090-8c812971ad52');\n",
              "          const dataTable =\n",
              "            await google.colab.kernel.invokeFunction('convertToInteractive',\n",
              "                                                     [key], {});\n",
              "          if (!dataTable) return;\n",
              "\n",
              "          const docLinkHtml = 'Like what you see? Visit the ' +\n",
              "            '<a target=\"_blank\" href=https://colab.research.google.com/notebooks/data_table.ipynb>data table notebook</a>'\n",
              "            + ' to learn more about interactive tables.';\n",
              "          element.innerHTML = '';\n",
              "          dataTable['output_type'] = 'display_data';\n",
              "          await google.colab.output.renderOutput(dataTable, element);\n",
              "          const docLink = document.createElement('div');\n",
              "          docLink.innerHTML = docLinkHtml;\n",
              "          element.appendChild(docLink);\n",
              "        }\n",
              "      </script>\n",
              "    </div>\n",
              "  </div>\n",
              "  "
            ]
          },
          "metadata": {},
          "execution_count": 2
        }
      ],
      "source": [
        "from google.colab import drive\n",
        "drive.mount('/content/drive')\n",
        "\n",
        "df = pd.read_csv('/content/drive/MyDrive/NLP/Project/dataset.csv', sep = ';', on_bad_lines='skip')\n",
        "df.head()"
      ]
    },
    {
      "cell_type": "markdown",
      "metadata": {
        "id": "4qUOpqb4sVjV"
      },
      "source": [
        "**Data sampling** \\\\\n",
        "Select N songs per genre"
      ]
    },
    {
      "cell_type": "code",
      "execution_count": null,
      "metadata": {
        "colab": {
          "base_uri": "https://localhost:8080/"
        },
        "id": "Rpz1Nu94wAh-",
        "outputId": "45572c5f-97f3-49a2-98e1-a952ce4c3997"
      },
      "outputs": [
        {
          "output_type": "stream",
          "name": "stdout",
          "text": [
            "we are working with 17500 songs for compuational purposes\n"
          ]
        }
      ],
      "source": [
        "from sklearn.utils import shuffle\n",
        "from nltk.corpus import stopwords\n",
        "genres = [\n",
        "    'alt rock', 'Hip Hop','pop', 'rhythm and blues', 'Country'\n",
        "]\n",
        "\n",
        "LYRIC_LEN = 400 # each song has to be  400 characters\n",
        "N_sampling = 3500 # MAXIMUM: 3514 # number of records to pull from each genre\n",
        "RANDOM_SEED = 200 # random seed to make results repeatable\n",
        "\n",
        "df_mini = pd.DataFrame()\n",
        "test_df = pd.DataFrame()\n",
        "for genre in genres: # loop over each genre\n",
        "    subset = df[ # create a subset \n",
        "        (df.ranker_genre==genre) &\n",
        "        (df.lyric.str.len()>LYRIC_LEN)\n",
        "    ]\n",
        "    df_mini_ = subset.sample(n=N_sampling, random_state=RANDOM_SEED)\n",
        "    test_set = subset.drop(df_mini_.index)\n",
        "    df_mini = df_mini.append(df_mini_) # append subsets to the master sets\n",
        "  \n",
        "df_mini = shuffle(df_mini)\n",
        "print('we are working with',len(df_mini), 'songs for compuational purposes')"
      ]
    },
    {
      "cell_type": "code",
      "execution_count": null,
      "metadata": {
        "colab": {
          "base_uri": "https://localhost:8080/"
        },
        "id": "yMRXr9RaowNT",
        "outputId": "235a7868-bc5c-48c6-f26d-5416e90d2d20"
      },
      "outputs": [
        {
          "name": "stdout",
          "output_type": "stream",
          "text": [
            "Mortal Man\n",
            "Unnamed: 0                               6957\n",
            "song                         Bring It On Home\n",
            "year                                   1993.0\n",
            "album                        Flashback (1993)\n",
            "genre                          Rock|Hard Rock\n",
            "artist          Joan Jett and the Blackhearts\n",
            "ranker_genre                         alt rock\n",
            "lyric                                     \\n \n",
            "song_length                                 2\n",
            "Name: 6957, dtype: object\n",
            "{'alt rock': 1049.5650753212228, 'Hip Hop': 2736.6520265063955, 'pop': 1271.4796657381617, 'rhythm and blues': 1168.9868517165814, 'Country': 906.6662005519779}\n",
            "alt rock 17098 5716\n",
            "Hip Hop 6348 5716\n",
            "pop 3514 5716\n",
            "rhythm and blues 6608 5716\n",
            "Country 26341 5716\n"
          ]
        }
      ],
      "source": [
        "#how long are the lyrics\n",
        "df['song_length'] = df.apply(lambda row: len(row.lyric), axis=1)\n",
        "print(df.iloc[df['song_length'].idxmax()].song)\n",
        "print(df.iloc[df['song_length'].idxmin()])\n",
        "\n",
        "genres_mean_length = {}\n",
        "genres_max_length = {}\n",
        "genres_min_length = {}\n",
        "\n",
        "for g in genres:\n",
        "  array_ = np.array((df[df['ranker_genre']==g])['song_length'])\n",
        "  genres_mean_length[g]=array_.mean()\n",
        "  genres_max_length[g]=np.amax(array_)\n",
        "  genres_min_length[g]=np.amin(array_)\n",
        "print(genres_mean_length)\n",
        "\n",
        "genres = [\n",
        "    'alt rock', 'Hip Hop', 'pop', 'rhythm and blues', 'Country'\n",
        "]\n",
        "for genre in genres:\n",
        "  subset = df[ # create a subset \n",
        "        (df.ranker_genre==genre)&\n",
        "        (df.lyric.str.len()>400)\n",
        "    ]\n",
        "  print(genre,len(subset),genres_max_length[g])"
      ]
    },
    {
      "cell_type": "code",
      "execution_count": null,
      "metadata": {
        "colab": {
          "base_uri": "https://localhost:8080/",
          "height": 872
        },
        "id": "lCiJtwgT3iAn",
        "outputId": "224a009e-56ea-412f-fc39-613d8e3ee96f"
      },
      "outputs": [
        {
          "name": "stderr",
          "output_type": "stream",
          "text": [
            "/usr/local/lib/python3.7/dist-packages/seaborn/distributions.py:2619: FutureWarning: `distplot` is a deprecated function and will be removed in a future version. Please adapt your code to use either `displot` (a figure-level function with similar flexibility) or `histplot` (an axes-level function for histograms).\n",
            "  warnings.warn(msg, FutureWarning)\n"
          ]
        },
        {
          "name": "stdout",
          "output_type": "stream",
          "text": [
            "alt rock mean  1049.5650753212228 variance:  241724.57643514246 mediana 991.0\n"
          ]
        },
        {
          "name": "stderr",
          "output_type": "stream",
          "text": [
            "/usr/local/lib/python3.7/dist-packages/seaborn/distributions.py:2619: FutureWarning: `distplot` is a deprecated function and will be removed in a future version. Please adapt your code to use either `displot` (a figure-level function with similar flexibility) or `histplot` (an axes-level function for histograms).\n",
            "  warnings.warn(msg, FutureWarning)\n"
          ]
        },
        {
          "name": "stdout",
          "output_type": "stream",
          "text": [
            "Hip Hop mean  2736.6520265063955 variance:  1119291.2898082384 mediana 2745.0\n"
          ]
        },
        {
          "name": "stderr",
          "output_type": "stream",
          "text": [
            "/usr/local/lib/python3.7/dist-packages/seaborn/distributions.py:2619: FutureWarning: `distplot` is a deprecated function and will be removed in a future version. Please adapt your code to use either `displot` (a figure-level function with similar flexibility) or `histplot` (an axes-level function for histograms).\n",
            "  warnings.warn(msg, FutureWarning)\n"
          ]
        },
        {
          "name": "stdout",
          "output_type": "stream",
          "text": [
            "pop mean  1271.4796657381617 variance:  289529.4572347726 mediana 1207.0\n"
          ]
        },
        {
          "name": "stderr",
          "output_type": "stream",
          "text": [
            "/usr/local/lib/python3.7/dist-packages/seaborn/distributions.py:2619: FutureWarning: `distplot` is a deprecated function and will be removed in a future version. Please adapt your code to use either `displot` (a figure-level function with similar flexibility) or `histplot` (an axes-level function for histograms).\n",
            "  warnings.warn(msg, FutureWarning)\n"
          ]
        },
        {
          "name": "stdout",
          "output_type": "stream",
          "text": [
            "rhythm and blues mean  1168.9868517165814 variance:  359480.948687413 mediana 1062.0\n"
          ]
        },
        {
          "name": "stderr",
          "output_type": "stream",
          "text": [
            "/usr/local/lib/python3.7/dist-packages/seaborn/distributions.py:2619: FutureWarning: `distplot` is a deprecated function and will be removed in a future version. Please adapt your code to use either `displot` (a figure-level function with similar flexibility) or `histplot` (an axes-level function for histograms).\n",
            "  warnings.warn(msg, FutureWarning)\n"
          ]
        },
        {
          "name": "stdout",
          "output_type": "stream",
          "text": [
            "Country mean  906.6662005519779 variance:  148766.56352046836 mediana 835.0\n"
          ]
        },
        {
          "data": {
            "image/png": "[encoded data removed]",
            "text/plain": [
              "<Figure size 720x360 with 1 Axes>"
            ]
          },
          "metadata": {},
          "output_type": "display_data"
        },
        {
          "data": {
            "text/plain": [
              "<matplotlib.axes._subplots.AxesSubplot at 0x7fd630cd2610>"
            ]
          },
          "execution_count": 5,
          "metadata": {},
          "output_type": "execute_result"
        },
        {
          "data": {
            "image/png": "[encoded data removed]",
            "text/plain": [
              "<Figure size 432x288 with 1 Axes>"
            ]
          },
          "metadata": {},
          "output_type": "display_data"
        }
      ],
      "source": [
        "import matplotlib.pyplot as plt\n",
        "import seaborn as sns\n",
        "#Required if using Jupyter Notebook %matplotlib inline\n",
        "genres = [\n",
        "    'alt rock', 'Hip Hop', 'pop', 'rhythm and blues', 'Country'\n",
        "]\n",
        "\n",
        "plt.figure(figsize=(10,5))\n",
        "plt.xlim(0,6000)\n",
        "plt.xlabel('song_length')\n",
        "plt.ylabel('N_songs')\n",
        "\n",
        "\n",
        "for g in genres:\n",
        "  sns.distplot((df[df['ranker_genre']==g])['song_length'],bins=1000,kde=False)\n",
        "  print(g, 'mean ',(df[df['ranker_genre']==g])['song_length'].mean(), 'variance: ', (df[df['ranker_genre']==g])['song_length'].var(), 'mediana', (df[df['ranker_genre']==g])['song_length'].median()) \n",
        "plt.legend(genres)\n",
        "plt.show()\n",
        "\n",
        "df['ranker_genre'].value_counts().plot.pie()"
      ]
    },
    {
      "cell_type": "markdown",
      "metadata": {
        "id": "VH1qFUZmw7S_"
      },
      "source": [
        "**Build Train_set & Test_set**"
      ]
    },
    {
      "cell_type": "code",
      "execution_count": null,
      "metadata": {
        "colab": {
          "base_uri": "https://localhost:8080/"
        },
        "id": "4okJPSFAx6WE",
        "outputId": "720ce991-18eb-4242-8bc1-b641e7433abe"
      },
      "outputs": [
        {
          "output_type": "stream",
          "name": "stdout",
          "text": [
            "training sample is: 13125 and test sample is: 4375\n"
          ]
        }
      ],
      "source": [
        "from sklearn.utils import shuffle\n",
        "from nltk.corpus import stopwords\n",
        "genres = [\n",
        "    'alt rock', 'Hip Hop','pop', 'rhythm and blues', 'Country'\n",
        "]\n",
        "\n",
        "LYRIC_LEN = 400 # each song has to be  400 characters\n",
        "N_split = int(N_sampling*0.75) # number of records to pull from each genre for the training set\n",
        "RANDOM_SEED = 200 # random seed to make results repeatable\n",
        "\n",
        "train_df = pd.DataFrame()\n",
        "test_df = pd.DataFrame()\n",
        "for genre in genres: # loop over each genre\n",
        "    subset = df_mini[ # create a subset \n",
        "        (df_mini.ranker_genre==genre) &\n",
        "        (df_mini.lyric.str.len()>LYRIC_LEN)\n",
        "    ]\n",
        "    train_set = subset.sample(n=N_split, random_state=RANDOM_SEED)\n",
        "    test_set = subset.drop(train_set.index)\n",
        "    train_df = train_df.append(train_set) # append subsets to the master sets\n",
        "    test_df = test_df.append(test_set)\n",
        "  \n",
        "train_df_ = shuffle(train_df)\n",
        "X_train=train_df_.lyric\n",
        "y_train=train_df_.ranker_genre\n",
        "\n",
        "test_df_ = shuffle(test_df)\n",
        "X_test=test_df_.lyric\n",
        "y_test=test_df_.ranker_genre\n",
        "print('training sample is:',len(X_train),'and test sample is:',len(X_test))"
      ]
    },
    {
      "cell_type": "markdown",
      "metadata": {
        "id": "uxEADAMH7hgE"
      },
      "source": [
        "**stop words set** "
      ]
    },
    {
      "cell_type": "code",
      "execution_count": null,
      "metadata": {
        "id": "LPof3QpE7fzp"
      },
      "outputs": [],
      "source": [
        "#add to stopwords words without apostrophe (shouldn't -> shouldnt)\n",
        "stopwords_en = stopwords.words('english')\n",
        "stopwords_en=[word.replace(\"'\", \"\") for word in stopwords_en]\n",
        "stopwords_en.append('im')"
      ]
    },
    {
      "cell_type": "markdown",
      "metadata": {
        "id": "wsPnGIPEWyx1"
      },
      "source": [
        "**Visualization**"
      ]
    },
    {
      "cell_type": "code",
      "execution_count": null,
      "metadata": {
        "colab": {
          "base_uri": "https://localhost:8080/",
          "height": 631
        },
        "id": "RNS9e6gIrTUz",
        "outputId": "bb67e363-7ea0-4c65-a725-e778f6d1224a"
      },
      "outputs": [
        {
          "name": "stdout",
          "output_type": "stream",
          "text": [
            "df_altrock\n",
            "The size of the vocabulary is 17399\n",
            "The shape of the term-document matrix is (17399, 2625)\n",
            "df_HipHop\n",
            "The size of the vocabulary is 39326\n",
            "The shape of the term-document matrix is (39326, 2625)\n",
            "df_pop\n",
            "The size of the vocabulary is 10754\n",
            "The shape of the term-document matrix is (10754, 2625)\n",
            "df_rhythmandblues\n",
            "The size of the vocabulary is 11233\n",
            "The shape of the term-document matrix is (11233, 2625)\n",
            "df_Country\n",
            "The size of the vocabulary is 11830\n",
            "The shape of the term-document matrix is (11830, 2625)\n"
          ]
        },
        {
          "data": {
            "text/html": [
              "\n",
              "  <div id=\"df-57ae8a63-6c8a-4158-88de-db7220d0e0e1\">\n",
              "    <div class=\"colab-df-container\">\n",
              "      <div>\n",
              "<style scoped>\n",
              "    .dataframe tbody tr th:only-of-type {\n",
              "        vertical-align: middle;\n",
              "    }\n",
              "\n",
              "    .dataframe tbody tr th {\n",
              "        vertical-align: top;\n",
              "    }\n",
              "\n",
              "    .dataframe thead th {\n",
              "        text-align: right;\n",
              "    }\n",
              "</style>\n",
              "<table border=\"1\" class=\"dataframe\">\n",
              "  <thead>\n",
              "    <tr style=\"text-align: right;\">\n",
              "      <th></th>\n",
              "      <th>total</th>\n",
              "      <th>word</th>\n",
              "      <th>genre</th>\n",
              "    </tr>\n",
              "  </thead>\n",
              "  <tbody>\n",
              "    <tr>\n",
              "      <th>0</th>\n",
              "      <td>1.673902</td>\n",
              "      <td>love</td>\n",
              "      <td>rhythmandblues</td>\n",
              "    </tr>\n",
              "    <tr>\n",
              "      <th>0</th>\n",
              "      <td>1.233215</td>\n",
              "      <td>like</td>\n",
              "      <td>HipHop</td>\n",
              "    </tr>\n",
              "    <tr>\n",
              "      <th>1</th>\n",
              "      <td>1.221740</td>\n",
              "      <td>baby</td>\n",
              "      <td>rhythmandblues</td>\n",
              "    </tr>\n",
              "    <tr>\n",
              "      <th>1</th>\n",
              "      <td>0.927012</td>\n",
              "      <td>get</td>\n",
              "      <td>HipHop</td>\n",
              "    </tr>\n",
              "    <tr>\n",
              "      <th>2</th>\n",
              "      <td>0.881056</td>\n",
              "      <td>oh</td>\n",
              "      <td>rhythmandblues</td>\n",
              "    </tr>\n",
              "    <tr>\n",
              "      <th>0</th>\n",
              "      <td>0.872875</td>\n",
              "      <td>love</td>\n",
              "      <td>pop</td>\n",
              "    </tr>\n",
              "    <tr>\n",
              "      <th>3</th>\n",
              "      <td>0.834346</td>\n",
              "      <td>know</td>\n",
              "      <td>rhythmandblues</td>\n",
              "    </tr>\n",
              "    <tr>\n",
              "      <th>2</th>\n",
              "      <td>0.791724</td>\n",
              "      <td>got</td>\n",
              "      <td>HipHop</td>\n",
              "    </tr>\n",
              "    <tr>\n",
              "      <th>4</th>\n",
              "      <td>0.735197</td>\n",
              "      <td>yeah</td>\n",
              "      <td>rhythmandblues</td>\n",
              "    </tr>\n",
              "    <tr>\n",
              "      <th>0</th>\n",
              "      <td>0.733112</td>\n",
              "      <td>love</td>\n",
              "      <td>Country</td>\n",
              "    </tr>\n",
              "  </tbody>\n",
              "</table>\n",
              "</div>\n",
              "      <button class=\"colab-df-convert\" onclick=\"convertToInteractive('df-57ae8a63-6c8a-4158-88de-db7220d0e0e1')\"\n",
              "              title=\"Convert this dataframe to an interactive table.\"\n",
              "              style=\"display:none;\">\n",
              "        \n",
              "  <svg xmlns=\"http://www.w3.org/2000/svg\" height=\"24px\"viewBox=\"0 0 24 24\"\n",
              "       width=\"24px\">\n",
              "    <path d=\"M0 0h24v24H0V0z\" fill=\"none\"/>\n",
              "    <path d=\"M18.56 5.44l.94 2.06.94-2.06 2.06-.94-2.06-.94-.94-2.06-.94 2.06-2.06.94zm-11 1L8.5 8.5l.94-2.06 2.06-.94-2.06-.94L8.5 2.5l-.94 2.06-2.06.94zm10 10l.94 2.06.94-2.06 2.06-.94-2.06-.94-.94-2.06-.94 2.06-2.06.94z\"/><path d=\"M17.41 7.96l-1.37-1.37c-.4-.4-.92-.59-1.43-.59-.52 0-1.04.2-1.43.59L10.3 9.45l-7.72 7.72c-.78.78-.78 2.05 0 2.83L4 21.41c.39.39.9.59 1.41.59.51 0 1.02-.2 1.41-.59l7.78-7.78 2.81-2.81c.8-.78.8-2.07 0-2.86zM5.41 20L4 18.59l7.72-7.72 1.47 1.35L5.41 20z\"/>\n",
              "  </svg>\n",
              "      </button>\n",
              "      \n",
              "  <style>\n",
              "    .colab-df-container {\n",
              "      display:flex;\n",
              "      flex-wrap:wrap;\n",
              "      gap: 12px;\n",
              "    }\n",
              "\n",
              "    .colab-df-convert {\n",
              "      background-color: #E8F0FE;\n",
              "      border: none;\n",
              "      border-radius: 50%;\n",
              "      cursor: pointer;\n",
              "      display: none;\n",
              "      fill: #1967D2;\n",
              "      height: 32px;\n",
              "      padding: 0 0 0 0;\n",
              "      width: 32px;\n",
              "    }\n",
              "\n",
              "    .colab-df-convert:hover {\n",
              "      background-color: #E2EBFA;\n",
              "      box-shadow: 0px 1px 2px rgba(60, 64, 67, 0.3), 0px 1px 3px 1px rgba(60, 64, 67, 0.15);\n",
              "      fill: #174EA6;\n",
              "    }\n",
              "\n",
              "    [theme=dark] .colab-df-convert {\n",
              "      background-color: #3B4455;\n",
              "      fill: #D2E3FC;\n",
              "    }\n",
              "\n",
              "    [theme=dark] .colab-df-convert:hover {\n",
              "      background-color: #434B5C;\n",
              "      box-shadow: 0px 1px 3px 1px rgba(0, 0, 0, 0.15);\n",
              "      filter: drop-shadow(0px 1px 2px rgba(0, 0, 0, 0.3));\n",
              "      fill: #FFFFFF;\n",
              "    }\n",
              "  </style>\n",
              "\n",
              "      <script>\n",
              "        const buttonEl =\n",
              "          document.querySelector('#df-57ae8a63-6c8a-4158-88de-db7220d0e0e1 button.colab-df-convert');\n",
              "        buttonEl.style.display =\n",
              "          google.colab.kernel.accessAllowed ? 'block' : 'none';\n",
              "\n",
              "        async function convertToInteractive(key) {\n",
              "          const element = document.querySelector('#df-57ae8a63-6c8a-4158-88de-db7220d0e0e1');\n",
              "          const dataTable =\n",
              "            await google.colab.kernel.invokeFunction('convertToInteractive',\n",
              "                                                     [key], {});\n",
              "          if (!dataTable) return;\n",
              "\n",
              "          const docLinkHtml = 'Like what you see? Visit the ' +\n",
              "            '<a target=\"_blank\" href=https://colab.research.google.com/notebooks/data_table.ipynb>data table notebook</a>'\n",
              "            + ' to learn more about interactive tables.';\n",
              "          element.innerHTML = '';\n",
              "          dataTable['output_type'] = 'display_data';\n",
              "          await google.colab.output.renderOutput(dataTable, element);\n",
              "          const docLink = document.createElement('div');\n",
              "          docLink.innerHTML = docLinkHtml;\n",
              "          element.appendChild(docLink);\n",
              "        }\n",
              "      </script>\n",
              "    </div>\n",
              "  </div>\n",
              "  "
            ],
            "text/plain": [
              "      total  word           genre\n",
              "0  1.673902  love  rhythmandblues\n",
              "0  1.233215  like          HipHop\n",
              "1  1.221740  baby  rhythmandblues\n",
              "1  0.927012   get          HipHop\n",
              "2  0.881056    oh  rhythmandblues\n",
              "0  0.872875  love             pop\n",
              "3  0.834346  know  rhythmandblues\n",
              "2  0.791724   got          HipHop\n",
              "4  0.735197  yeah  rhythmandblues\n",
              "0  0.733112  love         Country"
            ]
          },
          "execution_count": 8,
          "metadata": {},
          "output_type": "execute_result"
        }
      ],
      "source": [
        "#add to stopwords words without apostrophe (shouldn't -> shouldnt)\n",
        "stopwords_en = stopwords.words('english')\n",
        "stopwords_en=[word.replace(\"'\", \"\") for word in stopwords_en]\n",
        "stopwords_en.append('im')\n",
        "\n",
        "n_words=1000\n",
        "genre_total_df=pd.DataFrame(index=range(n_words*5))\n",
        "for genre in genres:\n",
        "  globals()['df_%s' % genre.replace(' ','')] = pd.DataFrame(index=range(n_words))\n",
        "  print('df_%s' % genre.replace(' ',''))\n",
        "  vectorizer = CountVectorizer(stop_words=stopwords_en, token_pattern='[A-Za-z]+')\n",
        "  term_doc_matrix = vectorizer.fit_transform(np.array(train_df.lyric[train_df.ranker_genre==genre])).transpose().toarray()\n",
        "  vocab = vectorizer.get_feature_names_out()\n",
        "  vocab = list(vocab)\n",
        "  # your code ends here\n",
        "  print('The size of the vocabulary is', len(vocab))\n",
        "  print('The shape of the term-document matrix is', term_doc_matrix.shape)\n",
        "  term_doc_matrix_pd = pd.DataFrame(term_doc_matrix, index=vocab, columns=range(term_doc_matrix.shape[1]))\n",
        "  term_doc_matrix_pd['total'] = term_doc_matrix_pd.sum(axis=1)\n",
        "  term_doc_matrix_pd = term_doc_matrix_pd.sort_values(by=['total'], ascending=False)\n",
        "  #print('------------------',genre,'------------------')\n",
        "  #print(term_doc_matrix_pd['total'][:10])\n",
        "  (globals()['df_%s' % genre.replace(' ','')])['total']=  (((((term_doc_matrix_pd['total'][:n_words])-(genres_min_length[genre])))/(genres_max_length[genre]-genres_min_length[genre]))).tolist()\n",
        "  (globals()['df_%s' % genre.replace(' ','')])['word']=term_doc_matrix_pd.index[:n_words].tolist()\n",
        "  (globals()['df_%s' % genre.replace(' ','')])['genre']= ((((genre.replace(' ',''))+' ')*n_words).split(' '))[:n_words]\n",
        "  X_train_countvec=term_doc_matrix_pd\n",
        "genres_total=pd.concat([df_altrock,df_HipHop,df_pop,df_rhythmandblues,df_Country], axis=0)\n",
        "genres_total=genres_total.sort_values(by=['total'], ascending=False)\n",
        "genres_total[:10]"
      ]
    },
    {
      "cell_type": "code",
      "execution_count": null,
      "metadata": {
        "colab": {
          "base_uri": "https://localhost:8080/",
          "height": 386
        },
        "id": "XrL4Wh3gLBUs",
        "outputId": "6a60bbdc-d02b-485f-91bc-247a4f3ad7a2"
      },
      "outputs": [
        {
          "data": {
            "text/plain": [
              "<matplotlib.axes._subplots.AxesSubplot at 0x7fd62eb39a90>"
            ]
          },
          "execution_count": 9,
          "metadata": {},
          "output_type": "execute_result"
        },
        {
          "data": {
            "image/png": "[encoded data removed]",
            "text/plain": [
              "<Figure size 1080x360 with 1 Axes>"
            ]
          },
          "metadata": {},
          "output_type": "display_data"
        }
      ],
      "source": [
        "genres_total=df_Country.sort_values(by=['total'], ascending=False) # redefine for a specific genre\n",
        "words=(genres_total['word'].unique())[:10]\n",
        "\n",
        "for genre in genres:\n",
        "  (globals()['df_%s_words' % genre.replace(' ','')])=(globals()['df_%s' % genre.replace(' ','')])['word'].tolist() #pd to list\n",
        "  (globals()['df_%s_values' % genre.replace(' ','')])=(globals()['df_%s' % genre.replace(' ','')])['total'].tolist() #pd to list\n",
        "  (globals()['df_%s_values_common' % genre.replace(' ','')])=[]\n",
        "  for word in words:\n",
        "    try:\n",
        "      (globals()['df_%s_values_common' % genre.replace(' ','')]).append((globals()['df_%s_values' % genre.replace(' ','')])[(globals()['df_%s_words' % genre.replace(' ','')]).index(word)]) #find value for word\n",
        "    except ValueError:\n",
        "      (globals()['df_%s_values_common' % genre.replace(' ','')]).append(0)\n",
        "\n",
        "\n",
        "df_plot = pd.DataFrame({\n",
        "    'words': words,\n",
        "    'hiphop': df_HipHop_values_common,\n",
        "    'altrock': df_altrock_values_common,\n",
        "    'RNB': df_rhythmandblues_values_common,\n",
        "    'pop': df_pop_values_common,\n",
        "    'country': df_Country_values_common,\n",
        "})\n",
        "\n",
        "\n",
        "df_plot.plot(x=\"words\", y=[\"hiphop\", \"altrock\", \"RNB\", 'pop', 'country'], kind=\"bar\", title= \"top-10 words\",figsize=(15,5))"
      ]
    },
    {
      "cell_type": "markdown",
      "metadata": {
        "id": "oqWsWjGJxKt4"
      },
      "source": [
        "**CountVectorizer -> BOW** \\\\\n",
        "Docs as vectors, features words count. \\\\\n",
        "Removed stopwords, only alphabetic words."
      ]
    },
    {
      "cell_type": "code",
      "execution_count": null,
      "metadata": {
        "colab": {
          "base_uri": "https://localhost:8080/"
        },
        "id": "miSwG4a8Blx0",
        "outputId": "bd7da46e-4e50-4044-e882-0646c8bfbf2e"
      },
      "outputs": [
        {
          "output_type": "stream",
          "name": "stdout",
          "text": [
            "The size of the vocabulary is 2000\n",
            "The shape of the term-document matrix is (13125, 2000)\n"
          ]
        }
      ],
      "source": [
        "vectorizer = CountVectorizer(stop_words=stopwords_en, token_pattern='[A-Za-z]+', max_features=2000, strip_accents='ascii', ngram_range=(1,1))\n",
        "vectorizer_fit=vectorizer.fit(np.array(X_train))\n",
        "term_doc_matrix = vectorizer_fit.transform(np.array(X_train)).toarray()\n",
        "vocab = vectorizer.get_feature_names_out()\n",
        "vocab = list(vocab)\n",
        "\n",
        "print('The size of the vocabulary is', len(vocab))\n",
        "print('The shape of the term-document matrix is', term_doc_matrix.shape)\n",
        "\n",
        "term_doc_matrix_pd = pd.DataFrame(term_doc_matrix, index=range(term_doc_matrix.shape[0]), columns=vocab)\n",
        "X_train_countvec=term_doc_matrix_pd\n",
        "#term_doc_matrix_pd"
      ]
    },
    {
      "cell_type": "markdown",
      "metadata": {
        "id": "cFwAV9K9zsAS"
      },
      "source": [
        "Build test set: X_test"
      ]
    },
    {
      "cell_type": "code",
      "execution_count": null,
      "metadata": {
        "colab": {
          "base_uri": "https://localhost:8080/"
        },
        "id": "FvwvFWnBG7aY",
        "outputId": "21645af6-c13c-43de-8eb0-29c40ee66e5a"
      },
      "outputs": [
        {
          "output_type": "stream",
          "name": "stdout",
          "text": [
            "The size of the vocabulary is 2000\n",
            "The shape of the term-document matrix is (4375, 2000)\n"
          ]
        }
      ],
      "source": [
        "term_doc_matrix = vectorizer_fit.transform(np.array(X_test)).toarray()\n",
        "vocab = vectorizer.get_feature_names_out()\n",
        "vocab = list(vocab)\n",
        "\n",
        "print('The size of the vocabulary is', len(vocab))\n",
        "print('The shape of the term-document matrix is', term_doc_matrix.shape)\n",
        "term_doc_matrix_pd = pd.DataFrame(term_doc_matrix, index=range(term_doc_matrix.shape[0]), columns=vocab)\n",
        "X_test_countvec=term_doc_matrix_pd\n",
        "#term_doc_matrix_pd"
      ]
    },
    {
      "cell_type": "markdown",
      "metadata": {
        "id": "zWltvox74UvY"
      },
      "source": [
        "**TfIdfVectorizer**"
      ]
    },
    {
      "cell_type": "code",
      "execution_count": null,
      "metadata": {
        "colab": {
          "base_uri": "https://localhost:8080/"
        },
        "id": "pJVAx-AG4T9t",
        "outputId": "4675b98d-48e4-4ce3-e46e-d33749a56b7b"
      },
      "outputs": [
        {
          "output_type": "stream",
          "name": "stdout",
          "text": [
            "The size of the vocabulary is 2000\n",
            "The shape of the term-document matrix is (13125, 2000)\n"
          ]
        }
      ],
      "source": [
        "vectorizer = TfidfVectorizer(stop_words=stopwords_en, token_pattern='[A-Za-z]+', max_features=2000, strip_accents='ascii', ngram_range=(1,1))\n",
        "vectorizer_fit = vectorizer.fit(np.array(X_train))\n",
        "term_doc_matrix = vectorizer_fit.transform(np.array(X_train)).toarray()\n",
        "vocab = vectorizer.get_feature_names_out()\n",
        "vocab = list(vocab)\n",
        "\n",
        "print('The size of the vocabulary is', len(vocab))\n",
        "print('The shape of the term-document matrix is', term_doc_matrix.shape)\n",
        "\n",
        "term_doc_matrix_pd = pd.DataFrame(term_doc_matrix, index=range(term_doc_matrix.shape[0]), columns=vocab)\n",
        "X_train_TfIdf=term_doc_matrix_pd\n",
        "#y_train_TfIdf=train_df.ranker_genre\n",
        "#term_doc_matrix_pd\n"
      ]
    },
    {
      "cell_type": "code",
      "execution_count": null,
      "metadata": {
        "colab": {
          "base_uri": "https://localhost:8080/"
        },
        "id": "wrt0JbTV55kf",
        "outputId": "00d37ec8-9790-4712-c1b0-260867c8b9ec"
      },
      "outputs": [
        {
          "output_type": "stream",
          "name": "stdout",
          "text": [
            "The size of the vocabulary is 2000\n",
            "The shape of the term-document matrix is (4375, 2000)\n"
          ]
        }
      ],
      "source": [
        "term_doc_matrix = vectorizer_fit.transform(np.array(X_test)).toarray()\n",
        "vocab = vectorizer.get_feature_names_out()\n",
        "vocab = list(vocab)\n",
        "\n",
        "print('The size of the vocabulary is', len(vocab))\n",
        "print('The shape of the term-document matrix is', term_doc_matrix.shape)\n",
        "term_doc_matrix_pd = pd.DataFrame(term_doc_matrix, index=range(term_doc_matrix.shape[0]), columns=vocab)\n",
        "X_test_TfIdf = term_doc_matrix_pd\n",
        "#term_doc_matrix_pd"
      ]
    },
    {
      "cell_type": "markdown",
      "metadata": {
        "id": "AwucQ7Yr6UL8"
      },
      "source": [
        "**SVD**"
      ]
    },
    {
      "cell_type": "code",
      "execution_count": null,
      "metadata": {
        "id": "9OENaeMi6TR_"
      },
      "outputs": [],
      "source": [
        "from sklearn.decomposition import TruncatedSVD\n",
        "svd = TruncatedSVD(n_components=100)\n",
        "svd_fitted = svd.fit(X_train_TfIdf)\n",
        "X_train_TfIdf_svd = svd_fitted.transform(X_train_TfIdf)\n",
        "X_test_TfIdf_svd =svd_fitted.transform(X_test_TfIdf)"
      ]
    },
    {
      "cell_type": "code",
      "execution_count": null,
      "metadata": {
        "colab": {
          "base_uri": "https://localhost:8080/"
        },
        "id": "mX06LA4u8KeD",
        "outputId": "af0f74b0-a7f4-4c91-fa1c-919cd430af54"
      },
      "outputs": [
        {
          "data": {
            "text/plain": [
              "array([24.99941987, 13.07532517, 10.03185477,  9.51904171,  8.46802342,\n",
              "        8.19323972,  7.80634462,  7.50890915,  7.1826691 ,  7.06037761,\n",
              "        6.9396955 ,  6.84047218,  6.60450244,  6.53073494,  6.47399287,\n",
              "        6.42800089,  6.3785056 ,  6.30209351,  6.24751207,  6.18881223,\n",
              "        6.16115747,  6.13877652,  6.10230149,  6.04577594,  5.97337845,\n",
              "        5.92905127,  5.91502557,  5.89288133,  5.86432554,  5.82495841,\n",
              "        5.78689265,  5.71789418,  5.68915503,  5.67732748,  5.63837958,\n",
              "        5.60536553,  5.5899749 ,  5.56846521,  5.53368615,  5.46699387,\n",
              "        5.46154877,  5.44471167,  5.41765562,  5.41636017,  5.38547856,\n",
              "        5.35735613,  5.30868917,  5.29777522,  5.27088325,  5.24298141,\n",
              "        5.229575  ,  5.21584043,  5.20354905,  5.18072136,  5.15316984,\n",
              "        5.14306696,  5.1148005 ,  5.08699761,  5.07604298,  5.05817708,\n",
              "        5.04084035,  5.02542302,  5.00912724,  4.97344457,  4.96599337,\n",
              "        4.9365279 ,  4.92868793,  4.91993289,  4.87518263,  4.85735964,\n",
              "        4.83704301,  4.83282056,  4.81623855,  4.78396932,  4.7615767 ,\n",
              "        4.74823731,  4.73865368,  4.73175453,  4.71561233,  4.69807989,\n",
              "        4.67342431,  4.64738739,  4.63264912,  4.6246794 ,  4.60711252,\n",
              "        4.59775776,  4.55527826,  4.55191566,  4.54363681,  4.52302587,\n",
              "        4.5001977 ,  4.48362289,  4.47335463,  4.45017595,  4.43928646,\n",
              "        4.42969074,  4.40563415,  4.40188616,  4.36957081,  4.34804269])"
            ]
          },
          "execution_count": 15,
          "metadata": {},
          "output_type": "execute_result"
        }
      ],
      "source": [
        "svd.singular_values_"
      ]
    },
    {
      "cell_type": "markdown",
      "metadata": {
        "id": "Hg9ZDjLP5mFY"
      },
      "source": [
        "**Word2Vec**"
      ]
    },
    {
      "cell_type": "code",
      "execution_count": null,
      "metadata": {
        "id": "9m7yDFx25iZW",
        "colab": {
          "base_uri": "https://localhost:8080/"
        },
        "outputId": "2b3f4071-a20d-4987-f27a-180e3367e872"
      },
      "outputs": [
        {
          "output_type": "stream",
          "name": "stdout",
          "text": [
            "[==================================================] 100.0% 1662.8/1662.8MB downloaded\n"
          ]
        }
      ],
      "source": [
        "import gensim.downloader as api\n",
        "google_w2v = api.load(\"word2vec-google-news-300\")"
      ]
    },
    {
      "cell_type": "code",
      "execution_count": null,
      "metadata": {
        "id": "gAhoPGscE3X3"
      },
      "outputs": [],
      "source": [
        "#encode the song as the average of the term vectors\n",
        "def w2vmean(l):\n",
        "    X = np.zeros((300,))\n",
        "    for x in l:\n",
        "        if x in google_w2v:\n",
        "            X += google_w2v[x]\n",
        "    return X/len(l)\n",
        "\n",
        "X_train_word2vec = []\n",
        "\n",
        "for s,c in zip(np.array(X_train),y_train):\n",
        "    if len(s) != 0:\n",
        "        X_train_word2vec.append(w2vmean(s))"
      ]
    },
    {
      "cell_type": "code",
      "execution_count": null,
      "metadata": {
        "id": "OM1S6XymHven"
      },
      "outputs": [],
      "source": [
        "#encode the song as the average of the term vectors\n",
        "\n",
        "X_test_word2vec = []\n",
        "for s in np.array(X_test):\n",
        "    if len(s) != 0:\n",
        "        X_test_word2vec.append(w2vmean(s))"
      ]
    },
    {
      "cell_type": "code",
      "execution_count": null,
      "metadata": {
        "id": "NMVQVWbJmJWe"
      },
      "outputs": [],
      "source": [
        "from gensim.models.word2vec import LineSentence, Word2Vec\n",
        "sents = \" \".join(list(X_train))\n",
        "text_file = open(\"/content/drive/MyDrive/NLP/Project/other word docs/unified_lyrics.txt\", \"w\")\n",
        "#write string to file\n",
        "text_file.write(sents)\n",
        "sentences=LineSentence('/content/drive/MyDrive/NLP/Project/other word docs/unified_lyrics.txt')\n",
        "w2v_lyrics = Word2Vec(sentences, size=300)"
      ]
    },
    {
      "cell_type": "code",
      "execution_count": null,
      "metadata": {
        "id": "CW21e341sJaj"
      },
      "outputs": [],
      "source": [
        "w2v_lyrics.wv['shit'].shape"
      ]
    },
    {
      "cell_type": "code",
      "execution_count": null,
      "metadata": {
        "id": "-qAMJqNwhYzV"
      },
      "outputs": [],
      "source": [
        "#encode the song as the average of the term vectors\n",
        "def w2vmean_f(l):\n",
        "    X = np.zeros((300,))\n",
        "    for x in l:\n",
        "        if x in w2v_lyrics.wv:\n",
        "            X += w2v_lyrics.wv[x]\n",
        "    return X/len(l)\n",
        "\n",
        "X_train_word2vec_finetuned = []\n",
        "\n",
        "for s in np.array(X_train):\n",
        "    if len(s) != 0:\n",
        "        X_train_word2vec_finetuned.append(w2vmean_f(s))"
      ]
    },
    {
      "cell_type": "code",
      "execution_count": null,
      "metadata": {
        "id": "vna1s0S-hYzY"
      },
      "outputs": [],
      "source": [
        "#encode the song as the average of the term vectors\n",
        "\n",
        "X_test_word2vec_finetuned = []\n",
        "for s in np.array(X_test):\n",
        "    if len(s) != 0:\n",
        "        X_test_word2vec_finetuned.append(w2vmean_f(s))"
      ]
    },
    {
      "cell_type": "code",
      "execution_count": null,
      "metadata": {
        "id": "4RCcEzc9qe0I"
      },
      "outputs": [],
      "source": [
        "w2v_medline.wv.most_similar('young')"
      ]
    },
    {
      "cell_type": "code",
      "execution_count": null,
      "metadata": {
        "id": "eHAxCVRVHMaJ"
      },
      "outputs": [],
      "source": [
        "print(\"We kept\",len(X_train),\"songs from\",len(genres_set),\"categories:\", genres_set)"
      ]
    },
    {
      "cell_type": "markdown",
      "metadata": {
        "id": "Xh5y_oTK17yf"
      },
      "source": [
        "---\n",
        "**3. NB prediction**"
      ]
    },
    {
      "cell_type": "markdown",
      "metadata": {
        "id": "sSgCIVGS2K6j"
      },
      "source": [
        "Naive Bayes"
      ]
    },
    {
      "cell_type": "code",
      "execution_count": null,
      "metadata": {
        "id": "EqdFTwIv7yRp"
      },
      "outputs": [],
      "source": [
        "from sklearn.naive_bayes import MultinomialNB\n",
        "model=MultinomialNB()"
      ]
    },
    {
      "cell_type": "code",
      "execution_count": null,
      "metadata": {
        "colab": {
          "base_uri": "https://localhost:8080/"
        },
        "id": "8QKpoN2xE03k",
        "outputId": "7eaec797-6415-48b7-e068-5c369db285de"
      },
      "outputs": [
        {
          "name": "stdout",
          "output_type": "stream",
          "text": [
            "Score with :   0.6553142857142857\n"
          ]
        }
      ],
      "source": [
        "model.fit(X_train_TfIdf, y_train)\n",
        "y_pred = model.predict(X_test_TfIdf)\n",
        "print('Score with :  ',np.mean(y_pred == y_test))"
      ]
    },
    {
      "cell_type": "code",
      "execution_count": null,
      "metadata": {
        "colab": {
          "base_uri": "https://localhost:8080/"
        },
        "id": "jSgAzuaWL_m4",
        "outputId": "b1922d27-bd9a-4589-be87-999155f92a06"
      },
      "outputs": [
        {
          "data": {
            "text/plain": [
              "0.6553142857142857"
            ]
          },
          "execution_count": 18,
          "metadata": {},
          "output_type": "execute_result"
        }
      ],
      "source": [
        "np.mean(y_pred == y_test)"
      ]
    },
    {
      "cell_type": "markdown",
      "metadata": {
        "id": "PAdS154I2Qqr"
      },
      "source": [
        "---\n",
        "**4. Evaluation**"
      ]
    },
    {
      "cell_type": "code",
      "execution_count": null,
      "metadata": {
        "colab": {
          "base_uri": "https://localhost:8080/",
          "height": 357
        },
        "id": "E6XIFducq4Fc",
        "outputId": "6d308bea-27cc-4c07-e779-83f233e37738"
      },
      "outputs": [
        {
          "data": {
            "image/png": "[encoded data removed]",
            "text/plain": [
              "<Figure size 432x288 with 1 Axes>"
            ]
          },
          "metadata": {},
          "output_type": "display_data"
        }
      ],
      "source": [
        "from sklearn.metrics import confusion_matrix\n",
        "import seaborn as sns\n",
        "try:\n",
        "  y_pred=y_pred_test\n",
        "except Exception:\n",
        "  pass\n",
        "\n",
        "mat = confusion_matrix(y_test, y_pred)\n",
        "sns.heatmap(\n",
        "    mat.T, square=True, annot=True, fmt='d', cbar=False,\n",
        "    xticklabels=genres, \n",
        "    yticklabels=genres\n",
        ")\n",
        "plt.xlabel('true label')\n",
        "plt.ylabel('y_pred label');"
      ]
    },
    {
      "cell_type": "code",
      "execution_count": null,
      "metadata": {
        "colab": {
          "base_uri": "https://localhost:8080/"
        },
        "id": "fdeHeRsa2P3H",
        "outputId": "70b41c88-e28d-4d55-e499-ca331265185e"
      },
      "outputs": [
        {
          "name": "stdout",
          "output_type": "stream",
          "text": [
            "ALT ROCK_precision: 0.615675165250236\n",
            "ALT ROCK_recall: 0.7451428571428571\n",
            "ALT ROCK_fscore: 0.6742502585315407\n",
            "ALT ROCK_support: 875\n",
            "\n",
            "HIP HOP_precision: 0.9221411192214112\n",
            "HIP HOP_recall: 0.8662857142857143\n",
            "HIP HOP_fscore: 0.893341190335887\n",
            "HIP HOP_support: 875\n",
            "\n",
            "POP_precision: 0.6281512605042017\n",
            "POP_recall: 0.6834285714285714\n",
            "POP_fscore: 0.6546250684181719\n",
            "POP_support: 875\n",
            "\n",
            "RHYTHM AND BLUES_precision: 0.5960187353629977\n",
            "RHYTHM AND BLUES_recall: 0.5817142857142857\n",
            "RHYTHM AND BLUES_fscore: 0.5887796414112203\n",
            "RHYTHM AND BLUES_support: 875\n",
            "\n",
            "COUNTRY_precision: 0.6598837209302325\n",
            "COUNTRY_recall: 0.5188571428571429\n",
            "COUNTRY_fscore: 0.5809341010876521\n",
            "COUNTRY_support: 875\n",
            "\n"
          ]
        }
      ],
      "source": [
        "from sklearn.metrics import precision_recall_fscore_support\n",
        "try:\n",
        "  y_pred=y_pred_test\n",
        "except Exception:\n",
        "  pass\n",
        "precision, recall, fscore, support = precision_recall_fscore_support(y_test, y_pred)\n",
        "\n",
        "for n,genre in enumerate(genres):\n",
        "    genre = genre.upper()\n",
        "    print(genre+'_precision: {}'.format(precision[n]))\n",
        "    print(genre+'_recall: {}'.format(recall[n]))\n",
        "    print(genre+'_fscore: {}'.format(fscore[n]))\n",
        "    print(genre+'_support: {}'.format(support[n]))\n",
        "    print()"
      ]
    },
    {
      "cell_type": "markdown",
      "metadata": {
        "id": "XDhFKL7TLh9y"
      },
      "source": [
        "---\n",
        "**5. Other models**"
      ]
    },
    {
      "cell_type": "code",
      "execution_count": null,
      "metadata": {
        "id": "ATTqKmDTLhv9"
      },
      "outputs": [],
      "source": [
        "from sklearn.model_selection import train_test_split, GridSearchCV\n",
        "from sklearn.base import clone\n",
        "from sklearn.preprocessing import StandardScaler\n",
        "\n",
        "from sklearn.linear_model import LogisticRegression\n",
        "from sklearn.neighbors import KNeighborsClassifier \n",
        "from sklearn.tree import DecisionTreeClassifier\n",
        "from sklearn.neural_network import MLPClassifier\n",
        "from sklearn.ensemble import RandomForestClassifier\n",
        "from sklearn.svm import SVC\n",
        "\n",
        "from sklearn.metrics import accuracy_score, recall_score, precision_score, f1_score\n",
        "from sklearn.model_selection import cross_val_score\n",
        "from sklearn.model_selection import cross_validate\n",
        "\n",
        "from sklearn.model_selection import validation_curve"
      ]
    },
    {
      "cell_type": "code",
      "execution_count": null,
      "metadata": {
        "id": "wkCZj69NNwhE"
      },
      "outputs": [],
      "source": [
        "models_names=['Logistic Regression', 'KNN Classifier', 'Decision Tree Classifier', \"Neural Network Classifier\", \"Random Forest Classifier\", \"Support Vector Machine\"]\n",
        "\n",
        "index_names_=['Logistic Regression','KNN Classifier', 'Decision Tree Classifier', \n",
        "             'Neural Network Classifier', 'Random Forest Classifier', \"Support Vector Machine\"\n",
        "            ]\n",
        "\n",
        "random_state=2\n",
        "clfs= [LogisticRegression(multi_class='multinomial', solver='lbfgs', random_state=random_state), KNeighborsClassifier(),\n",
        "       DecisionTreeClassifier(random_state=random_state),MLPClassifier(random_state=random_state),RandomForestClassifier(random_state=2),SVC(random_state=2)]\n"
      ]
    },
    {
      "cell_type": "code",
      "execution_count": null,
      "metadata": {
        "colab": {
          "base_uri": "https://localhost:8080/"
        },
        "id": "dBqEVXWlNyAK",
        "outputId": "f8e3d663-eace-4275-9cb5-c9639f0d5266"
      },
      "outputs": [
        {
          "output_type": "stream",
          "name": "stdout",
          "text": [
            "Training Logistic Regression_countVec ...\n",
            "0.6781714285714285\n",
            "Training Logistic Regression_TfIdf ...\n",
            "0.6914285714285714\n",
            "Training Logistic Regression_TfIdf_svd ...\n",
            "0.6290285714285714\n",
            "Training Logistic Regression_Word2Vec ...\n",
            "0.4496\n",
            "Training Logistic Regression_Word2Vec - self trained ...\n",
            "0.44114285714285717\n",
            "Training KNN Classifier_countVec ...\n",
            "0.45394285714285715\n",
            "Training KNN Classifier_TfIdf ...\n",
            "0.48297142857142855\n",
            "Training KNN Classifier_TfIdf_svd ...\n",
            "0.5282285714285714\n",
            "Training KNN Classifier_Word2Vec ...\n",
            "0.45257142857142857\n",
            "Training KNN Classifier_Word2Vec - self trained ...\n",
            "0.42834285714285714\n",
            "Training Decision Tree Classifier_countVec ...\n",
            "0.6052571428571428\n",
            "Training Decision Tree Classifier_TfIdf ...\n",
            "0.5995428571428572\n",
            "Training Decision Tree Classifier_TfIdf_svd ...\n",
            "0.5659428571428572\n",
            "Training Decision Tree Classifier_Word2Vec ...\n",
            "0.47954285714285716\n",
            "Training Decision Tree Classifier_Word2Vec - self trained ...\n",
            "0.4694857142857143\n",
            "Training Neural Network Classifier_countVec ...\n",
            "0.7227428571428571\n",
            "Training Neural Network Classifier_TfIdf ...\n",
            "0.7126857142857143\n",
            "Training Neural Network Classifier_TfIdf_svd ...\n",
            "0.6749714285714286\n",
            "Training Neural Network Classifier_Word2Vec ...\n",
            "0.48137142857142856\n",
            "Training Neural Network Classifier_Word2Vec - self trained ...\n",
            "0.4763428571428571\n",
            "Training Random Forest Classifier_countVec ...\n",
            "0.7350857142857142\n",
            "Training Random Forest Classifier_TfIdf ...\n",
            "0.7293714285714286\n",
            "Training Random Forest Classifier_TfIdf_svd ...\n",
            "0.6774857142857142\n",
            "Training Random Forest Classifier_Word2Vec ...\n",
            "0.5801142857142857\n",
            "Training Random Forest Classifier_Word2Vec - self trained ...\n",
            "0.5657142857142857\n",
            "Training Support Vector Machine_countVec ...\n",
            "0.6886857142857142\n",
            "Training Support Vector Machine_TfIdf ...\n",
            "0.7321142857142857\n",
            "Training Support Vector Machine_TfIdf_svd ...\n",
            "0.6820571428571428\n",
            "Training Support Vector Machine_Word2Vec ...\n",
            "0.4498285714285714\n",
            "Training Support Vector Machine_Word2Vec - self trained ...\n",
            "0.40845714285714285\n"
          ]
        }
      ],
      "source": [
        "train_accuracy=[]\n",
        "train_recall=[]\n",
        "train_precision=[]\n",
        "train_f1=[]\n",
        "\n",
        "cv_accuracy=[]\n",
        "cv_precision=[]\n",
        "cv_recall=[]\n",
        "cv_f1=[]\n",
        "\n",
        "test_accuracy=[]\n",
        "test_precision=[]\n",
        "test_recall=[]\n",
        "test_f1=[]\n",
        "#,[X_train_word2vec_finetuned,X_test_word2vec_finetuned]\n",
        "datasets=[[X_train_countvec, X_test_countvec, 'countVec'],[X_train_TfIdf, X_test_TfIdf, 'TfIdf'],[X_train_TfIdf_svd, X_test_TfIdf_svd, 'TfIdf_svd'],[X_train_word2vec, X_test_word2vec, 'Word2Vec'],[X_train_word2vec_finetuned,X_test_word2vec_finetuned, 'Word2Vec - self trained']]\n",
        "import warnings\n",
        "warnings.filterwarnings('ignore')\n",
        "\n",
        "index_names=[]\n",
        "for ix in range(len(models_names)):\n",
        "    \n",
        "    original_model=clone(clfs[ix])    \n",
        "    \n",
        "    for dataset in datasets:\n",
        "        \n",
        "        current_model= models_names[ix]+'_'+dataset[2]\n",
        "        print(\"Training \"+current_model+\" ...\")\n",
        "        index_names.append(current_model)\n",
        "        original_model.fit(dataset[0], y_train)\n",
        "        \n",
        "        #--Train scores\n",
        "        y_pred_train = original_model.predict(dataset[0])\n",
        "        train_accuracy.append(accuracy_score(y_train, y_pred_train))\n",
        "        #train_recall.append(recall_score(y_train, y_pred_train,average='micro'))\n",
        "        #train_precision.append(precision_score(y_train, y_pred_train,average='micro'))\n",
        "        #train_f1.append(f1_score(y_train, y_pred_train,average='micro'))\n",
        "         \n",
        "        #--Test scores\n",
        "        y_pred_test = original_model.predict(dataset[1])\n",
        "        test_score=accuracy_score(y_test, y_pred_test)\n",
        "        test_accuracy.append(test_score)\n",
        "        print(test_score)\n",
        "        #test_recall.append(recall_score(y_test, y_pred_test,average='micro'))\n",
        "        #test_precision.append(precision_score(y_test, y_pred_test,average='micro'))\n",
        "        #test_f1.append(f1_score(y_test, y_pred_test,average='micro'))\n"
      ]
    },
    {
      "cell_type": "code",
      "execution_count": null,
      "metadata": {
        "colab": {
          "base_uri": "https://localhost:8080/",
          "height": 990
        },
        "id": "yBSOO55zNzrr",
        "outputId": "1a5ee2eb-b90b-4cee-9b9a-a9b827c07c01"
      },
      "outputs": [
        {
          "output_type": "execute_result",
          "data": {
            "text/plain": [
              "                                                   Train Accuracy  \\\n",
              "Logistic Regression_countVec                             0.867733   \n",
              "Logistic Regression_TfIdf                                0.772419   \n",
              "Logistic Regression_TfIdf_svd                            0.626743   \n",
              "Logistic Regression_Word2Vec                             0.431771   \n",
              "Logistic Regression_Word2Vec - self trained              0.432000   \n",
              "KNN Classifier_countVec                                  0.616914   \n",
              "KNN Classifier_TfIdf                                     0.648686   \n",
              "KNN Classifier_TfIdf_svd                                 0.684724   \n",
              "KNN Classifier_Word2Vec                                  0.616457   \n",
              "KNN Classifier_Word2Vec - self trained                   0.593448   \n",
              "Decision Tree Classifier_countVec                        0.999848   \n",
              "Decision Tree Classifier_TfIdf                           0.999848   \n",
              "Decision Tree Classifier_TfIdf_svd                       0.999848   \n",
              "Decision Tree Classifier_Word2Vec                        1.000000   \n",
              "Decision Tree Classifier_Word2Vec - self trained         1.000000   \n",
              "Neural Network Classifier_countVec                       0.999619   \n",
              "Neural Network Classifier_TfIdf                          0.999543   \n",
              "Neural Network Classifier_TfIdf_svd                      0.849295   \n",
              "Neural Network Classifier_Word2Vec                       0.480610   \n",
              "Neural Network Classifier_Word2Vec - self trained        0.472076   \n",
              "Random Forest Classifier_countVec                        0.999848   \n",
              "Random Forest Classifier_TfIdf                           0.999848   \n",
              "Random Forest Classifier_TfIdf_svd                       0.999848   \n",
              "Random Forest Classifier_Word2Vec                        1.000000   \n",
              "Random Forest Classifier_Word2Vec - self trained         1.000000   \n",
              "Support Vector Machine_countVec                          0.833600   \n",
              "Support Vector Machine_TfIdf                             0.946362   \n",
              "Support Vector Machine_TfIdf_svd                         0.811962   \n",
              "Support Vector Machine_Word2Vec                          0.434895   \n",
              "Support Vector Machine_Word2Vec - self trained           0.410057   \n",
              "\n",
              "                                                   Test Accuracy  \n",
              "Logistic Regression_countVec                            0.678171  \n",
              "Logistic Regression_TfIdf                               0.691429  \n",
              "Logistic Regression_TfIdf_svd                           0.629029  \n",
              "Logistic Regression_Word2Vec                            0.449600  \n",
              "Logistic Regression_Word2Vec - self trained             0.441143  \n",
              "KNN Classifier_countVec                                 0.453943  \n",
              "KNN Classifier_TfIdf                                    0.482971  \n",
              "KNN Classifier_TfIdf_svd                                0.528229  \n",
              "KNN Classifier_Word2Vec                                 0.452571  \n",
              "KNN Classifier_Word2Vec - self trained                  0.428343  \n",
              "Decision Tree Classifier_countVec                       0.605257  \n",
              "Decision Tree Classifier_TfIdf                          0.599543  \n",
              "Decision Tree Classifier_TfIdf_svd                      0.565943  \n",
              "Decision Tree Classifier_Word2Vec                       0.479543  \n",
              "Decision Tree Classifier_Word2Vec - self trained        0.469486  \n",
              "Neural Network Classifier_countVec                      0.722743  \n",
              "Neural Network Classifier_TfIdf                         0.712686  \n",
              "Neural Network Classifier_TfIdf_svd                     0.674971  \n",
              "Neural Network Classifier_Word2Vec                      0.481371  \n",
              "Neural Network Classifier_Word2Vec - self trained       0.476343  \n",
              "Random Forest Classifier_countVec                       0.735086  \n",
              "Random Forest Classifier_TfIdf                          0.729371  \n",
              "Random Forest Classifier_TfIdf_svd                      0.677486  \n",
              "Random Forest Classifier_Word2Vec                       0.580114  \n",
              "Random Forest Classifier_Word2Vec - self trained        0.565714  \n",
              "Support Vector Machine_countVec                         0.688686  \n",
              "Support Vector Machine_TfIdf                            0.732114  \n",
              "Support Vector Machine_TfIdf_svd                        0.682057  \n",
              "Support Vector Machine_Word2Vec                         0.449829  \n",
              "Support Vector Machine_Word2Vec - self trained          0.408457  "
            ],
            "text/html": [
              "\n",
              "  <div id=\"df-6a934270-0af7-42cc-a992-522af1278bf0\">\n",
              "    <div class=\"colab-df-container\">\n",
              "      <div>\n",
              "<style scoped>\n",
              "    .dataframe tbody tr th:only-of-type {\n",
              "        vertical-align: middle;\n",
              "    }\n",
              "\n",
              "    .dataframe tbody tr th {\n",
              "        vertical-align: top;\n",
              "    }\n",
              "\n",
              "    .dataframe thead th {\n",
              "        text-align: right;\n",
              "    }\n",
              "</style>\n",
              "<table border=\"1\" class=\"dataframe\">\n",
              "  <thead>\n",
              "    <tr style=\"text-align: right;\">\n",
              "      <th></th>\n",
              "      <th>Train Accuracy</th>\n",
              "      <th>Test Accuracy</th>\n",
              "    </tr>\n",
              "  </thead>\n",
              "  <tbody>\n",
              "    <tr>\n",
              "      <th>Logistic Regression_countVec</th>\n",
              "      <td>0.867733</td>\n",
              "      <td>0.678171</td>\n",
              "    </tr>\n",
              "    <tr>\n",
              "      <th>Logistic Regression_TfIdf</th>\n",
              "      <td>0.772419</td>\n",
              "      <td>0.691429</td>\n",
              "    </tr>\n",
              "    <tr>\n",
              "      <th>Logistic Regression_TfIdf_svd</th>\n",
              "      <td>0.626743</td>\n",
              "      <td>0.629029</td>\n",
              "    </tr>\n",
              "    <tr>\n",
              "      <th>Logistic Regression_Word2Vec</th>\n",
              "      <td>0.431771</td>\n",
              "      <td>0.449600</td>\n",
              "    </tr>\n",
              "    <tr>\n",
              "      <th>Logistic Regression_Word2Vec - self trained</th>\n",
              "      <td>0.432000</td>\n",
              "      <td>0.441143</td>\n",
              "    </tr>\n",
              "    <tr>\n",
              "      <th>KNN Classifier_countVec</th>\n",
              "      <td>0.616914</td>\n",
              "      <td>0.453943</td>\n",
              "    </tr>\n",
              "    <tr>\n",
              "      <th>KNN Classifier_TfIdf</th>\n",
              "      <td>0.648686</td>\n",
              "      <td>0.482971</td>\n",
              "    </tr>\n",
              "    <tr>\n",
              "      <th>KNN Classifier_TfIdf_svd</th>\n",
              "      <td>0.684724</td>\n",
              "      <td>0.528229</td>\n",
              "    </tr>\n",
              "    <tr>\n",
              "      <th>KNN Classifier_Word2Vec</th>\n",
              "      <td>0.616457</td>\n",
              "      <td>0.452571</td>\n",
              "    </tr>\n",
              "    <tr>\n",
              "      <th>KNN Classifier_Word2Vec - self trained</th>\n",
              "      <td>0.593448</td>\n",
              "      <td>0.428343</td>\n",
              "    </tr>\n",
              "    <tr>\n",
              "      <th>Decision Tree Classifier_countVec</th>\n",
              "      <td>0.999848</td>\n",
              "      <td>0.605257</td>\n",
              "    </tr>\n",
              "    <tr>\n",
              "      <th>Decision Tree Classifier_TfIdf</th>\n",
              "      <td>0.999848</td>\n",
              "      <td>0.599543</td>\n",
              "    </tr>\n",
              "    <tr>\n",
              "      <th>Decision Tree Classifier_TfIdf_svd</th>\n",
              "      <td>0.999848</td>\n",
              "      <td>0.565943</td>\n",
              "    </tr>\n",
              "    <tr>\n",
              "      <th>Decision Tree Classifier_Word2Vec</th>\n",
              "      <td>1.000000</td>\n",
              "      <td>0.479543</td>\n",
              "    </tr>\n",
              "    <tr>\n",
              "      <th>Decision Tree Classifier_Word2Vec - self trained</th>\n",
              "      <td>1.000000</td>\n",
              "      <td>0.469486</td>\n",
              "    </tr>\n",
              "    <tr>\n",
              "      <th>Neural Network Classifier_countVec</th>\n",
              "      <td>0.999619</td>\n",
              "      <td>0.722743</td>\n",
              "    </tr>\n",
              "    <tr>\n",
              "      <th>Neural Network Classifier_TfIdf</th>\n",
              "      <td>0.999543</td>\n",
              "      <td>0.712686</td>\n",
              "    </tr>\n",
              "    <tr>\n",
              "      <th>Neural Network Classifier_TfIdf_svd</th>\n",
              "      <td>0.849295</td>\n",
              "      <td>0.674971</td>\n",
              "    </tr>\n",
              "    <tr>\n",
              "      <th>Neural Network Classifier_Word2Vec</th>\n",
              "      <td>0.480610</td>\n",
              "      <td>0.481371</td>\n",
              "    </tr>\n",
              "    <tr>\n",
              "      <th>Neural Network Classifier_Word2Vec - self trained</th>\n",
              "      <td>0.472076</td>\n",
              "      <td>0.476343</td>\n",
              "    </tr>\n",
              "    <tr>\n",
              "      <th>Random Forest Classifier_countVec</th>\n",
              "      <td>0.999848</td>\n",
              "      <td>0.735086</td>\n",
              "    </tr>\n",
              "    <tr>\n",
              "      <th>Random Forest Classifier_TfIdf</th>\n",
              "      <td>0.999848</td>\n",
              "      <td>0.729371</td>\n",
              "    </tr>\n",
              "    <tr>\n",
              "      <th>Random Forest Classifier_TfIdf_svd</th>\n",
              "      <td>0.999848</td>\n",
              "      <td>0.677486</td>\n",
              "    </tr>\n",
              "    <tr>\n",
              "      <th>Random Forest Classifier_Word2Vec</th>\n",
              "      <td>1.000000</td>\n",
              "      <td>0.580114</td>\n",
              "    </tr>\n",
              "    <tr>\n",
              "      <th>Random Forest Classifier_Word2Vec - self trained</th>\n",
              "      <td>1.000000</td>\n",
              "      <td>0.565714</td>\n",
              "    </tr>\n",
              "    <tr>\n",
              "      <th>Support Vector Machine_countVec</th>\n",
              "      <td>0.833600</td>\n",
              "      <td>0.688686</td>\n",
              "    </tr>\n",
              "    <tr>\n",
              "      <th>Support Vector Machine_TfIdf</th>\n",
              "      <td>0.946362</td>\n",
              "      <td>0.732114</td>\n",
              "    </tr>\n",
              "    <tr>\n",
              "      <th>Support Vector Machine_TfIdf_svd</th>\n",
              "      <td>0.811962</td>\n",
              "      <td>0.682057</td>\n",
              "    </tr>\n",
              "    <tr>\n",
              "      <th>Support Vector Machine_Word2Vec</th>\n",
              "      <td>0.434895</td>\n",
              "      <td>0.449829</td>\n",
              "    </tr>\n",
              "    <tr>\n",
              "      <th>Support Vector Machine_Word2Vec - self trained</th>\n",
              "      <td>0.410057</td>\n",
              "      <td>0.408457</td>\n",
              "    </tr>\n",
              "  </tbody>\n",
              "</table>\n",
              "</div>\n",
              "      <button class=\"colab-df-convert\" onclick=\"convertToInteractive('df-6a934270-0af7-42cc-a992-522af1278bf0')\"\n",
              "              title=\"Convert this dataframe to an interactive table.\"\n",
              "              style=\"display:none;\">\n",
              "        \n",
              "  <svg xmlns=\"http://www.w3.org/2000/svg\" height=\"24px\"viewBox=\"0 0 24 24\"\n",
              "       width=\"24px\">\n",
              "    <path d=\"M0 0h24v24H0V0z\" fill=\"none\"/>\n",
              "    <path d=\"M18.56 5.44l.94 2.06.94-2.06 2.06-.94-2.06-.94-.94-2.06-.94 2.06-2.06.94zm-11 1L8.5 8.5l.94-2.06 2.06-.94-2.06-.94L8.5 2.5l-.94 2.06-2.06.94zm10 10l.94 2.06.94-2.06 2.06-.94-2.06-.94-.94-2.06-.94 2.06-2.06.94z\"/><path d=\"M17.41 7.96l-1.37-1.37c-.4-.4-.92-.59-1.43-.59-.52 0-1.04.2-1.43.59L10.3 9.45l-7.72 7.72c-.78.78-.78 2.05 0 2.83L4 21.41c.39.39.9.59 1.41.59.51 0 1.02-.2 1.41-.59l7.78-7.78 2.81-2.81c.8-.78.8-2.07 0-2.86zM5.41 20L4 18.59l7.72-7.72 1.47 1.35L5.41 20z\"/>\n",
              "  </svg>\n",
              "      </button>\n",
              "      \n",
              "  <style>\n",
              "    .colab-df-container {\n",
              "      display:flex;\n",
              "      flex-wrap:wrap;\n",
              "      gap: 12px;\n",
              "    }\n",
              "\n",
              "    .colab-df-convert {\n",
              "      background-color: #E8F0FE;\n",
              "      border: none;\n",
              "      border-radius: 50%;\n",
              "      cursor: pointer;\n",
              "      display: none;\n",
              "      fill: #1967D2;\n",
              "      height: 32px;\n",
              "      padding: 0 0 0 0;\n",
              "      width: 32px;\n",
              "    }\n",
              "\n",
              "    .colab-df-convert:hover {\n",
              "      background-color: #E2EBFA;\n",
              "      box-shadow: 0px 1px 2px rgba(60, 64, 67, 0.3), 0px 1px 3px 1px rgba(60, 64, 67, 0.15);\n",
              "      fill: #174EA6;\n",
              "    }\n",
              "\n",
              "    [theme=dark] .colab-df-convert {\n",
              "      background-color: #3B4455;\n",
              "      fill: #D2E3FC;\n",
              "    }\n",
              "\n",
              "    [theme=dark] .colab-df-convert:hover {\n",
              "      background-color: #434B5C;\n",
              "      box-shadow: 0px 1px 3px 1px rgba(0, 0, 0, 0.15);\n",
              "      filter: drop-shadow(0px 1px 2px rgba(0, 0, 0, 0.3));\n",
              "      fill: #FFFFFF;\n",
              "    }\n",
              "  </style>\n",
              "\n",
              "      <script>\n",
              "        const buttonEl =\n",
              "          document.querySelector('#df-6a934270-0af7-42cc-a992-522af1278bf0 button.colab-df-convert');\n",
              "        buttonEl.style.display =\n",
              "          google.colab.kernel.accessAllowed ? 'block' : 'none';\n",
              "\n",
              "        async function convertToInteractive(key) {\n",
              "          const element = document.querySelector('#df-6a934270-0af7-42cc-a992-522af1278bf0');\n",
              "          const dataTable =\n",
              "            await google.colab.kernel.invokeFunction('convertToInteractive',\n",
              "                                                     [key], {});\n",
              "          if (!dataTable) return;\n",
              "\n",
              "          const docLinkHtml = 'Like what you see? Visit the ' +\n",
              "            '<a target=\"_blank\" href=https://colab.research.google.com/notebooks/data_table.ipynb>data table notebook</a>'\n",
              "            + ' to learn more about interactive tables.';\n",
              "          element.innerHTML = '';\n",
              "          dataTable['output_type'] = 'display_data';\n",
              "          await google.colab.output.renderOutput(dataTable, element);\n",
              "          const docLink = document.createElement('div');\n",
              "          docLink.innerHTML = docLinkHtml;\n",
              "          element.appendChild(docLink);\n",
              "        }\n",
              "      </script>\n",
              "    </div>\n",
              "  </div>\n",
              "  "
            ]
          },
          "metadata": {},
          "execution_count": 20
        }
      ],
      "source": [
        "fs_results = pd.DataFrame(list(zip(train_accuracy, test_accuracy)), columns=[\"Train Accuracy\", \"Test Accuracy\"])\n",
        "fs_results.index=index_names\n",
        "fs_results  "
      ]
    },
    {
      "cell_type": "code",
      "source": [
        "fs_results = pd.DataFrame(list(test_accuracy), columns=[\"Test Accuracy\"])\n",
        "fs_results.index=index_names\n",
        "fs_results  \n",
        "fs_results.plot(kind=\"bar\", title= \"Results for each classifier and embedding\",figsize=(15,5))"
      ],
      "metadata": {
        "colab": {
          "base_uri": "https://localhost:8080/",
          "height": 592
        },
        "id": "GDg8kbqWxYQq",
        "outputId": "d891556b-e293-4628-cddf-6ec5966050e2"
      },
      "execution_count": null,
      "outputs": [
        {
          "output_type": "execute_result",
          "data": {
            "text/plain": [
              "<matplotlib.axes._subplots.AxesSubplot at 0x7efdd287e090>"
            ]
          },
          "metadata": {},
          "execution_count": 24
        },
        {
          "output_type": "display_data",
          "data": {
            "text/plain": [
              "<Figure size 1080x360 with 1 Axes>"
            ],
            "image/png": "[encoded data removed]"
          },
          "metadata": {
            "needs_background": "light"
          }
        }
      ]
    },
    {
      "cell_type": "code",
      "source": [],
      "metadata": {
        "id": "9wLgjSEQxdWL"
      },
      "execution_count": null,
      "outputs": []
    },
    {
      "cell_type": "code",
      "execution_count": null,
      "metadata": {
        "colab": {
          "base_uri": "https://localhost:8080/",
          "height": 592
        },
        "id": "JJXce53KQB4q",
        "outputId": "591e2416-2a21-4840-be5d-031c51f3f6f7"
      },
      "outputs": [
        {
          "output_type": "execute_result",
          "data": {
            "text/plain": [
              "<matplotlib.axes._subplots.AxesSubplot at 0x7efdd2b04710>"
            ]
          },
          "metadata": {},
          "execution_count": 21
        },
        {
          "output_type": "display_data",
          "data": {
            "text/plain": [
              "<Figure size 1080x360 with 1 Axes>"
            ],
            "image/png": "[encoded data removed]"
          },
          "metadata": {
            "needs_background": "light"
          }
        }
      ],
      "source": [
        "fs_results.plot(kind=\"bar\", title= \"Results for each classifier and embedding\",figsize=(15,5))"
      ]
    },
    {
      "cell_type": "code",
      "execution_count": null,
      "metadata": {
        "id": "-S-8yJ9K_7F8"
      },
      "outputs": [],
      "source": [
        "#fs_results.to_excel('results.xlsx')"
      ]
    },
    {
      "cell_type": "code",
      "execution_count": null,
      "metadata": {
        "id": "7oHYMzP824Hh"
      },
      "outputs": [],
      "source": [
        "fs_results.to_excel('results_complete.xlsx')"
      ]
    },
    {
      "cell_type": "markdown",
      "metadata": {
        "id": "PMc_qcUe-9Mq"
      },
      "source": [
        "---\n",
        "Amir Bachir\n",
        "\n",
        "Pablo Laso"
      ]
    }
  ],
  "metadata": {
    "colab": {
      "collapsed_sections": [],
      "provenance": []
    },
    "kernelspec": {
      "display_name": "Python 3",
      "name": "python3"
    },
    "language_info": {
      "name": "python"
    }
  },
  "nbformat": 4,
  "nbformat_minor": 0
}